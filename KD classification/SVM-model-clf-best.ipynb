{
 "cells": [
  {
   "cell_type": "code",
   "execution_count": 19,
   "id": "9b16f250-eb7d-472b-8327-a79c7d0cc526",
   "metadata": {},
   "outputs": [],
   "source": [
    "import datasets\n",
    "import numpy as np\n",
    "import matplotlib.pyplot as plt\n",
    "from matplotlib.colors import ListedColormap\n",
    "from sklearn.model_selection import train_test_split\n",
    "from sklearn.preprocessing import StandardScaler\n",
    "from sklearn.svm import SVC\n",
    "from sklearn.metrics import confusion_matrix\n",
    "import seaborn as sns\n",
    "import math\n",
    "import pandas as pd\n",
    "from joblib import dump, load"
   ]
  },
  {
   "cell_type": "code",
   "execution_count": 23,
   "id": "bcc4e224-5d91-4268-98f7-950ceac62d6e",
   "metadata": {},
   "outputs": [],
   "source": [
    "def get_data(split: str,data_dir:str, silent: bool = False, cache_dir: str = None):\n",
    "    print(f'Loading ECG dataset ({split} split) from Huggingface...')\n",
    "    dataset = datasets.load_dataset('honggen-organization/ECG-disease-clf', split=split, data_dir=data_dir, cache_dir=cache_dir)\n",
    "    print('done')\n",
    "    return dataset\n",
    "\n",
    "def binary_proprocess(disease_data, normal_data):\n",
    "    disease_df = disease_data.data.to_pandas()#[feature_list_all_6]\n",
    "    normal_df = normal_data.data.to_pandas()#[feature_list_all_6]\n",
    "    #For the large dataset wpws, we can sample some patiens\n",
    "    #try:\n",
    "    normal_df = normal_df[normal_df['Group'].isin(list(set(disease_df['Group'])))]#.sample(n=10000, random_state=42)\n",
    "    #except:\n",
    "    normal_df = normal_df\n",
    "    print(set(disease_df['Group']))\n",
    "    print(set(normal_df['Group']))\n",
    "    #disease_df = disease_df.drop('Group', axis=1)\n",
    "    #normal_df = normal_df.drop('Group', axis=1)\n",
    "    return disease_df,normal_df"
   ]
  },
  {
   "cell_type": "code",
   "execution_count": 24,
   "id": "fe2eabdc-1927-4fa9-8be0-00c5597435ec",
   "metadata": {},
   "outputs": [],
   "source": [
    "def clf_fun(disease_df, health_df, test_disease, test_health, interation = 1, downsample = True, agument=False):\n",
    "\n",
    "    disease_test = test_disease.values.tolist()\n",
    "    h_test  = test_health.values.tolist()\n",
    "    X_test = disease_test+h_test\n",
    "    y_test1 = np.ones(len(disease_test))\n",
    "    y_test2 = np.zeros(len(h_test))\n",
    "    y_test = np.append(y_test1,y_test2)\n",
    "    for i in range(interation):\n",
    "        if agument:\n",
    "            upsample_factor = math.floor(len(health_df) / len(disease_df))\n",
    "            disease_sampled = disease_df.sample(len(health_df)-upsample_factor*len(disease_df), replace=True, random_state=40).reset_index(drop=True)\n",
    "            disease_df = pd.concat([disease_df] * int(upsample_factor)).reset_index(drop=True)\n",
    "            disease_df = pd.concat([disease_df,disease_sampled]).reset_index(drop=True)\n",
    "            print(len(disease_df))\n",
    "            \n",
    "        if downsample:\n",
    "            health_df= health_df.sample(n=len(disease_df), random_state=42).reset_index(drop=True)\n",
    "        \n",
    "        disease_X  = disease_df.values.tolist()\n",
    "        h_X  = health_df.values.tolist()\n",
    "        print(len(disease_X))\n",
    "        print(len(h_X))\n",
    "\n",
    "        X = disease_X+h_X\n",
    "        y1 = np.ones(len(disease_X))\n",
    "        y2 = np.zeros(len(h_X))\n",
    "        y_train = np.append(y1,y2)\n",
    "        X_train = np.array(X)\n",
    "        scaler = StandardScaler().fit(X_train)\n",
    "        X_train = scaler.transform(X_train)\n",
    "        X_test = scaler.transform(np.array(X_test))\n",
    "        Pred_len = len(y_test)\n",
    "        clf = SVC(kernel=\"linear\",probability=True)\n",
    "        clf.fit(X_train, y_train)\n",
    "        y_pred = clf.predict(X_test)\n",
    "        score = clf.score(X_test, y_test)\n",
    "        y_prob = clf.predict_proba(X_test)\n",
    "        tn, fp, fn, tp = confusion_matrix(y_test,y_pred).ravel()\n",
    "        print(tn/(tn+fp),tp/(tp+fn))\n",
    "        dump(clf, './svm_KD_clf.joblib') \n",
    "        dump(scaler, './svm_KD_scaler.joblib') \n",
    "\n"
   ]
  },
  {
   "cell_type": "code",
   "execution_count": 25,
   "id": "5d7224d5-662d-4522-9583-ecb5eccb0d52",
   "metadata": {},
   "outputs": [
    {
     "name": "stdout",
     "output_type": "stream",
     "text": [
      "Loading ECG dataset (train split) from Huggingface...\n",
      "done\n",
      "Loading ECG dataset (test split) from Huggingface...\n",
      "done\n",
      "Loading ECG dataset (train split) from Huggingface...\n",
      "done\n",
      "Loading ECG dataset (test split) from Huggingface...\n",
      "done\n",
      "{4.0, 5.0, 6.0, 7.0, 8.0, 11.0, 12.0, 13.0, 14.0}\n",
      "{4.0, 5.0, 6.0, 7.0, 8.0, 11.0, 12.0, 13.0, 14.0}\n",
      "{4.0, 5.0, 6.0, 7.0, 8.0, 11.0, 12.0, 13.0, 14.0}\n",
      "{4.0, 5.0, 6.0, 7.0, 8.0, 11.0, 12.0, 13.0, 14.0}\n",
      "297\n",
      "297\n",
      "0.772984441301273 0.76\n"
     ]
    }
   ],
   "source": [
    "data_method = 'downsample'\n",
    "data = 'kd'\n",
    "augment = False\n",
    "downsample = True\n",
    "\n",
    "normal_data_train = get_data(split= 'train', data_dir = 'normal', cache_dir = './cache/huggingface/datasets')\n",
    "normal_data_test = get_data(split= 'test', data_dir = 'normal', cache_dir = './cache/huggingface/datasets')\n",
    "\n",
    "for i in range(1,2):\n",
    "    kd_data_train = get_data(split= 'train', data_dir = f\"{data}/data{i}\", cache_dir = './cache/huggingface/datasets')\n",
    "    kd_data_test = get_data(split= 'test', data_dir = f\"{data}/data{i}\", cache_dir = './cache/huggingface/datasets')\n",
    "    disease_train, normal_train = binary_proprocess(kd_data_train, normal_data_train)\n",
    "    disease_test, normal_test = binary_proprocess(kd_data_test, normal_data_test)\n",
    "    #disease_train = disease_train[feature_list1]\n",
    "    #normal_train = normal_train[feature_list1]\n",
    "    #disease_test = disease_test[feature_list1]\n",
    "    #normal_test = normal_test[feature_list1]\n",
    "    clf_fun(disease_df = disease_train, health_df =normal_train,\n",
    "                                    test_disease = disease_test, test_health = normal_test, \n",
    "                                    interation = 1,downsample = downsample,agument=augment)\n",
    "\n",
    "    \n",
    "    "
   ]
  },
  {
   "cell_type": "code",
   "execution_count": 9,
   "id": "73e4f91b-f084-41de-b8ca-4bbf36f01246",
   "metadata": {},
   "outputs": [],
   "source": [
    "#normal_data_test = get_data(split= 'test', data_dir = 'normal', cache_dir = './cache/huggingface/datasets')\n"
   ]
  },
  {
   "cell_type": "code",
   "execution_count": 11,
   "id": "66fd2ae7-3cd2-4026-9fda-33cdd97add8b",
   "metadata": {},
   "outputs": [],
   "source": [
    "#normal_data_test"
   ]
  },
  {
   "cell_type": "code",
   "execution_count": null,
   "id": "df5b206f-4df3-4368-b027-45d707667fbb",
   "metadata": {},
   "outputs": [],
   "source": []
  }
 ],
 "metadata": {
  "kernelspec": {
   "display_name": "Python DPO",
   "language": "python",
   "name": "dpo"
  },
  "language_info": {
   "codemirror_mode": {
    "name": "ipython",
    "version": 3
   },
   "file_extension": ".py",
   "mimetype": "text/x-python",
   "name": "python",
   "nbconvert_exporter": "python",
   "pygments_lexer": "ipython3",
   "version": "3.11.8"
  }
 },
 "nbformat": 4,
 "nbformat_minor": 5
}
